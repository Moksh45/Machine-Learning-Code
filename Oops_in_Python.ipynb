{
  "nbformat": 4,
  "nbformat_minor": 0,
  "metadata": {
    "colab": {
      "provenance": [],
      "authorship_tag": "ABX9TyMwUYJGjchlLf2i/zBTrUdh",
      "include_colab_link": true
    },
    "kernelspec": {
      "name": "python3",
      "display_name": "Python 3"
    },
    "language_info": {
      "name": "python"
    }
  },
  "cells": [
    {
      "cell_type": "markdown",
      "metadata": {
        "id": "view-in-github",
        "colab_type": "text"
      },
      "source": [
        "<a href=\"https://colab.research.google.com/github/Moksh45/Machine-Learning-Code/blob/main/Oops_in_Python.ipynb\" target=\"_parent\"><img src=\"https://colab.research.google.com/assets/colab-badge.svg\" alt=\"Open In Colab\"/></a>"
      ]
    },
    {
      "cell_type": "markdown",
      "source": [
        "# **Oops in Python**\n"
      ],
      "metadata": {
        "id": "-EGDZSIRn7HM"
      }
    },
    {
      "cell_type": "code",
      "execution_count": 1,
      "metadata": {
        "id": "bHuW2xHOnNEw"
      },
      "outputs": [],
      "source": [
        "class car:\n",
        "  def __init__(self,window,door,enginetype):   #constructor in Python\n",
        "    self.windows=window\n",
        "    self.doors=door\n",
        "    self.enginetype=enginetype\n",
        "  \n",
        "  def self_driving(self):          #inheritance in python  \n",
        "    return \"This is a {} car\".format(self.enginetype)"
      ]
    },
    {
      "cell_type": "code",
      "source": [
        "car1=car(4,5,\"Petrol\")\n",
        "car2=car(3,4,\"Diesel\")\n",
        "print(car1.windows)\n"
      ],
      "metadata": {
        "colab": {
          "base_uri": "https://localhost:8080/"
        },
        "id": "ePiUCkWOoTXq",
        "outputId": "964f8c9b-b56e-42b5-caa1-82f7d89fc29c"
      },
      "execution_count": 2,
      "outputs": [
        {
          "output_type": "stream",
          "name": "stdout",
          "text": [
            "4\n"
          ]
        }
      ]
    },
    {
      "cell_type": "code",
      "source": [
        "car1.self_driving()  #inheritance"
      ],
      "metadata": {
        "colab": {
          "base_uri": "https://localhost:8080/",
          "height": 36
        },
        "id": "m_0D5bdsq8Cj",
        "outputId": "c316c4b4-519b-4abd-db11-98361bcc83ab"
      },
      "execution_count": 3,
      "outputs": [
        {
          "output_type": "execute_result",
          "data": {
            "text/plain": [
              "'This is a Petrol car'"
            ],
            "application/vnd.google.colaboratory.intrinsic+json": {
              "type": "string"
            }
          },
          "metadata": {},
          "execution_count": 3
        }
      ]
    },
    {
      "cell_type": "code",
      "source": [
        "print(car2.enginetype)"
      ],
      "metadata": {
        "colab": {
          "base_uri": "https://localhost:8080/"
        },
        "id": "ZOaTs9lbqPO7",
        "outputId": "b5e3a159-ae81-43f1-cead-f6bfab4464da"
      },
      "execution_count": 4,
      "outputs": [
        {
          "output_type": "stream",
          "name": "stdout",
          "text": [
            "Diesel\n"
          ]
        }
      ]
    },
    {
      "cell_type": "markdown",
      "source": [
        "# **Python Exception Handling**"
      ],
      "metadata": {
        "id": "SWl4l35Q2nK5"
      }
    },
    {
      "cell_type": "code",
      "source": [
        "try:\n",
        "  #try else\n",
        "  ##code block where exception can occur\n",
        "  a=int(input(\"Enter the number 1 \"))\n",
        "  b=int(input(\"Enter the number 2 \"))\n",
        "  c=a/b\n",
        "  d=a*b\n",
        "  e=a+b\n",
        "except NameError:\n",
        "  print(\"The user have not defined the variable\")\n",
        "except TypeError:\n",
        "  print(\"Try to make the datatype similar\")\n",
        "except ZeroDivisionError:\n",
        "  print(\"Please provide number greater than 0\")\n",
        "except Exception as ex:  #is default exception always come at last\n",
        "  print(ex)\n",
        "\n",
        "else:\n",
        "    print(c)\n",
        "    print(d)\n",
        "    print(e)"
      ],
      "metadata": {
        "colab": {
          "base_uri": "https://localhost:8080/"
        },
        "id": "eN9hCN6l2vre",
        "outputId": "2be1af11-6997-44af-f410-663d756e46bc"
      },
      "execution_count": 18,
      "outputs": [
        {
          "output_type": "stream",
          "name": "stdout",
          "text": [
            "Enter the number 1 89\n",
            "Enter the number 2 98\n",
            "0.9081632653061225\n",
            "8722\n",
            "187\n"
          ]
        }
      ]
    },
    {
      "cell_type": "code",
      "source": [
        "#try else finally\n",
        "try:\n",
        "  #try else\n",
        "  ##code block where exception can occur\n",
        "  a=int(input(\"Enter the number 1 \"))\n",
        "  b=int(input(\"Enter the number 2 \"))\n",
        "  c=a/b\n",
        "  d=a*b\n",
        "  e=a+b\n",
        "except NameError:\n",
        "  print(\"The user have not defined the variable\")\n",
        "except TypeError:\n",
        "  print(\"Try to make the datatype similar\")\n",
        "except ZeroDivisionError:\n",
        "  print(\"Please provide number greater than 0\")\n",
        "except Exception as ex:  #is default exception always come at last\n",
        "  print(ex)\n",
        "\n",
        "else:\n",
        "    print(c)\n",
        "    print(d)\n",
        "    print(e)\n",
        "finally:\n",
        "  print(\"The execution is Done\")    #finally always run"
      ],
      "metadata": {
        "colab": {
          "base_uri": "https://localhost:8080/"
        },
        "id": "-2PnyGe-6lTn",
        "outputId": "11e16469-c88c-40bd-9141-c1c3dfc964e7"
      },
      "execution_count": 19,
      "outputs": [
        {
          "output_type": "stream",
          "name": "stdout",
          "text": [
            "Enter the number 1 12\n",
            "Enter the number 2 0\n",
            "Please provide number greater than 0\n",
            "The execution is Done\n"
          ]
        }
      ]
    }
  ]
}