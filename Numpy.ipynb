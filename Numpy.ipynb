{
  "nbformat": 4,
  "nbformat_minor": 0,
  "metadata": {
    "colab": {
      "provenance": [],
      "authorship_tag": "ABX9TyMmrnhprFdCRFqvRh1e1Sad",
      "include_colab_link": true
    },
    "kernelspec": {
      "name": "python3",
      "display_name": "Python 3"
    },
    "language_info": {
      "name": "python"
    }
  },
  "cells": [
    {
      "cell_type": "markdown",
      "metadata": {
        "id": "view-in-github",
        "colab_type": "text"
      },
      "source": [
        "<a href=\"https://colab.research.google.com/github/Moksh45/Machine-Learning-Code/blob/main/Numpy.ipynb\" target=\"_parent\"><img src=\"https://colab.research.google.com/assets/colab-badge.svg\" alt=\"Open In Colab\"/></a>"
      ]
    },
    {
      "cell_type": "markdown",
      "source": [
        "# **Numpy**"
      ],
      "metadata": {
        "id": "UcY0wBkN-KcH"
      }
    },
    {
      "cell_type": "code",
      "execution_count": 1,
      "metadata": {
        "id": "XMW-H84985-W"
      },
      "outputs": [],
      "source": [
        "import numpy as np"
      ]
    },
    {
      "cell_type": "code",
      "source": [
        "my_list = [1,2,3,4,5]\n",
        "arr=np.array(my_list)\n",
        "print(type(arr))\n",
        "arr"
      ],
      "metadata": {
        "colab": {
          "base_uri": "https://localhost:8080/"
        },
        "id": "niODyHpO-03Y",
        "outputId": "b8759d5f-cfce-4088-e130-c50aad8cda38"
      },
      "execution_count": 2,
      "outputs": [
        {
          "output_type": "stream",
          "name": "stdout",
          "text": [
            "<class 'numpy.ndarray'>\n"
          ]
        },
        {
          "output_type": "execute_result",
          "data": {
            "text/plain": [
              "array([1, 2, 3, 4, 5])"
            ]
          },
          "metadata": {},
          "execution_count": 2
        }
      ]
    },
    {
      "cell_type": "code",
      "source": [
        "arr.shape   #1D array\n"
      ],
      "metadata": {
        "colab": {
          "base_uri": "https://localhost:8080/"
        },
        "id": "PXtpTs3M_YEu",
        "outputId": "866a203a-3649-4e73-9d35-a528fb8aa693"
      },
      "execution_count": 3,
      "outputs": [
        {
          "output_type": "execute_result",
          "data": {
            "text/plain": [
              "(5,)"
            ]
          },
          "metadata": {},
          "execution_count": 3
        }
      ]
    },
    {
      "cell_type": "code",
      "source": [
        "#Creating 2D array\n",
        "my_list1=[1,2,3,4,5]\n",
        "my_list2=[6,7,8,9,10]\n",
        "my_list3=[11,12,13,14,15]\n",
        "arr = np.array([my_list1,my_list2,my_list3])\n",
        "print (arr)"
      ],
      "metadata": {
        "colab": {
          "base_uri": "https://localhost:8080/"
        },
        "id": "7OS80oP5_cxc",
        "outputId": "1228eb46-164b-4a5b-df73-03e1190970ed"
      },
      "execution_count": 4,
      "outputs": [
        {
          "output_type": "stream",
          "name": "stdout",
          "text": [
            "[[ 1  2  3  4  5]\n",
            " [ 6  7  8  9 10]\n",
            " [11 12 13 14 15]]\n"
          ]
        }
      ]
    },
    {
      "cell_type": "code",
      "source": [
        "arr.shape # Know it is 2D Array"
      ],
      "metadata": {
        "colab": {
          "base_uri": "https://localhost:8080/"
        },
        "id": "DvcHZdIvACVd",
        "outputId": "652654be-87df-4b55-b0eb-123a9948530b"
      },
      "execution_count": 5,
      "outputs": [
        {
          "output_type": "execute_result",
          "data": {
            "text/plain": [
              "(3, 5)"
            ]
          },
          "metadata": {},
          "execution_count": 5
        }
      ]
    },
    {
      "cell_type": "code",
      "source": [
        "arr.reshape(5,3)    # reshape will help you to reshape you array 5 is number of row and 3 is number of column"
      ],
      "metadata": {
        "colab": {
          "base_uri": "https://localhost:8080/"
        },
        "id": "UrmbM4tq_aMZ",
        "outputId": "2278d71b-3aae-4504-ebc3-41ff55d1692f"
      },
      "execution_count": 6,
      "outputs": [
        {
          "output_type": "execute_result",
          "data": {
            "text/plain": [
              "array([[ 1,  2,  3],\n",
              "       [ 4,  5,  6],\n",
              "       [ 7,  8,  9],\n",
              "       [10, 11, 12],\n",
              "       [13, 14, 15]])"
            ]
          },
          "metadata": {},
          "execution_count": 6
        }
      ]
    },
    {
      "cell_type": "markdown",
      "source": [
        "# **Indexing**"
      ],
      "metadata": {
        "id": "RJXdUmDkBOIF"
      }
    },
    {
      "cell_type": "code",
      "source": [
        "arr1 = np.array([1,2,3,4,5,6,7,8,9])   #indexing start from 0 this "
      ],
      "metadata": {
        "id": "D-JOnykBAx9Y"
      },
      "execution_count": 7,
      "outputs": []
    },
    {
      "cell_type": "code",
      "source": [
        "arr1[3]"
      ],
      "metadata": {
        "colab": {
          "base_uri": "https://localhost:8080/"
        },
        "id": "PUSCm2XiBbfE",
        "outputId": "db507a87-f049-42e1-c7d2-c366af072818"
      },
      "execution_count": 8,
      "outputs": [
        {
          "output_type": "execute_result",
          "data": {
            "text/plain": [
              "4"
            ]
          },
          "metadata": {},
          "execution_count": 8
        }
      ]
    },
    {
      "cell_type": "code",
      "source": [
        "arr[0:2,0:2] #indexing in 2D array"
      ],
      "metadata": {
        "colab": {
          "base_uri": "https://localhost:8080/"
        },
        "id": "Gc6h3LpKBpyc",
        "outputId": "079cd832-6c4c-4bf5-9a0b-8ca2eb687618"
      },
      "execution_count": 9,
      "outputs": [
        {
          "output_type": "execute_result",
          "data": {
            "text/plain": [
              "array([[1, 2],\n",
              "       [6, 7]])"
            ]
          },
          "metadata": {},
          "execution_count": 9
        }
      ]
    },
    {
      "cell_type": "code",
      "source": [
        "arr[:,3:5]"
      ],
      "metadata": {
        "colab": {
          "base_uri": "https://localhost:8080/"
        },
        "id": "rA2-FoAOCTyI",
        "outputId": "1a380c25-425b-41b2-941d-1703139c1a26"
      },
      "execution_count": 10,
      "outputs": [
        {
          "output_type": "execute_result",
          "data": {
            "text/plain": [
              "array([[ 4,  5],\n",
              "       [ 9, 10],\n",
              "       [14, 15]])"
            ]
          },
          "metadata": {},
          "execution_count": 10
        }
      ]
    },
    {
      "cell_type": "code",
      "source": [
        "arr2=np.arange(0,10)   #make array and element are from 0 to 9\n",
        "arr3=np.arange(0,10)"
      ],
      "metadata": {
        "id": "TXF8mp4wCsq7"
      },
      "execution_count": 11,
      "outputs": []
    },
    {
      "cell_type": "code",
      "source": [
        "arr2"
      ],
      "metadata": {
        "colab": {
          "base_uri": "https://localhost:8080/"
        },
        "id": "soLImd9-DBbk",
        "outputId": "7889645a-4244-436a-ecf8-03a44e4728df"
      },
      "execution_count": 12,
      "outputs": [
        {
          "output_type": "execute_result",
          "data": {
            "text/plain": [
              "array([0, 1, 2, 3, 4, 5, 6, 7, 8, 9])"
            ]
          },
          "metadata": {},
          "execution_count": 12
        }
      ]
    },
    {
      "cell_type": "code",
      "source": [
        "arr2=np.arange(0,10,2)   #start , end , step\n",
        "arr3=np.arange(0,10, step=2) #both are same"
      ],
      "metadata": {
        "id": "gLpCZBQqDFku"
      },
      "execution_count": 13,
      "outputs": []
    },
    {
      "cell_type": "code",
      "source": [
        "print(arr2)\n",
        "print(arr3)\n"
      ],
      "metadata": {
        "colab": {
          "base_uri": "https://localhost:8080/"
        },
        "id": "nGRpQ4Z3DJTp",
        "outputId": "67f427c7-aaa6-4e7f-cadd-6f8398a2b430"
      },
      "execution_count": 14,
      "outputs": [
        {
          "output_type": "stream",
          "name": "stdout",
          "text": [
            "[0 2 4 6 8]\n",
            "[0 2 4 6 8]\n"
          ]
        }
      ]
    },
    {
      "cell_type": "code",
      "source": [
        "arr4 = np.linspace(1,10,50)   # give 50 point between 1 to 10\n",
        "arr4"
      ],
      "metadata": {
        "colab": {
          "base_uri": "https://localhost:8080/"
        },
        "id": "UpnC8sLxDsCy",
        "outputId": "c68f80ea-d396-4bf3-de0c-39e4efc2a4ad"
      },
      "execution_count": 15,
      "outputs": [
        {
          "output_type": "execute_result",
          "data": {
            "text/plain": [
              "array([ 1.        ,  1.18367347,  1.36734694,  1.55102041,  1.73469388,\n",
              "        1.91836735,  2.10204082,  2.28571429,  2.46938776,  2.65306122,\n",
              "        2.83673469,  3.02040816,  3.20408163,  3.3877551 ,  3.57142857,\n",
              "        3.75510204,  3.93877551,  4.12244898,  4.30612245,  4.48979592,\n",
              "        4.67346939,  4.85714286,  5.04081633,  5.2244898 ,  5.40816327,\n",
              "        5.59183673,  5.7755102 ,  5.95918367,  6.14285714,  6.32653061,\n",
              "        6.51020408,  6.69387755,  6.87755102,  7.06122449,  7.24489796,\n",
              "        7.42857143,  7.6122449 ,  7.79591837,  7.97959184,  8.16326531,\n",
              "        8.34693878,  8.53061224,  8.71428571,  8.89795918,  9.08163265,\n",
              "        9.26530612,  9.44897959,  9.63265306,  9.81632653, 10.        ])"
            ]
          },
          "metadata": {},
          "execution_count": 15
        }
      ]
    },
    {
      "cell_type": "code",
      "source": [
        "#copy function and broadcasting\n",
        "print(arr3)\n",
        "\n",
        "arr4[3:]=100\n",
        "print(arr4)"
      ],
      "metadata": {
        "colab": {
          "base_uri": "https://localhost:8080/"
        },
        "id": "PbZwrQyjD2Y7",
        "outputId": "43f860b9-3e38-49cf-c16a-69cf454c80e3"
      },
      "execution_count": 16,
      "outputs": [
        {
          "output_type": "stream",
          "name": "stdout",
          "text": [
            "[0 2 4 6 8]\n",
            "[  1.           1.18367347   1.36734694 100.         100.\n",
            " 100.         100.         100.         100.         100.\n",
            " 100.         100.         100.         100.         100.\n",
            " 100.         100.         100.         100.         100.\n",
            " 100.         100.         100.         100.         100.\n",
            " 100.         100.         100.         100.         100.\n",
            " 100.         100.         100.         100.         100.\n",
            " 100.         100.         100.         100.         100.\n",
            " 100.         100.         100.         100.         100.\n",
            " 100.         100.         100.         100.         100.        ]\n"
          ]
        }
      ]
    },
    {
      "cell_type": "code",
      "source": [
        "#copy array\n",
        "arrr1=arr4.copy()\n",
        "arrr1"
      ],
      "metadata": {
        "colab": {
          "base_uri": "https://localhost:8080/"
        },
        "id": "FHjR8vl0Enpq",
        "outputId": "e66a0f3f-41a0-465f-d94d-7d6055e92a5f"
      },
      "execution_count": 17,
      "outputs": [
        {
          "output_type": "execute_result",
          "data": {
            "text/plain": [
              "array([  1.        ,   1.18367347,   1.36734694, 100.        ,\n",
              "       100.        , 100.        , 100.        , 100.        ,\n",
              "       100.        , 100.        , 100.        , 100.        ,\n",
              "       100.        , 100.        , 100.        , 100.        ,\n",
              "       100.        , 100.        , 100.        , 100.        ,\n",
              "       100.        , 100.        , 100.        , 100.        ,\n",
              "       100.        , 100.        , 100.        , 100.        ,\n",
              "       100.        , 100.        , 100.        , 100.        ,\n",
              "       100.        , 100.        , 100.        , 100.        ,\n",
              "       100.        , 100.        , 100.        , 100.        ,\n",
              "       100.        , 100.        , 100.        , 100.        ,\n",
              "       100.        , 100.        , 100.        , 100.        ,\n",
              "       100.        , 100.        ])"
            ]
          },
          "metadata": {},
          "execution_count": 17
        }
      ]
    },
    {
      "cell_type": "code",
      "source": [
        "#### Some Conditions Very useful in Exploratory Data Analysis\n",
        "\n",
        "print(arrr1<2,\"\\n\\n\") ## this give true and false for geting element use this\n",
        "print(arrr1[arrr1<2],\"\\n\\n\")\n",
        "print(arrr1 * 5)\n",
        "\n"
      ],
      "metadata": {
        "colab": {
          "base_uri": "https://localhost:8080/"
        },
        "id": "SFxsszCYH0UJ",
        "outputId": "25e274ed-ba86-47b3-e700-5c1d17fc5d4f"
      },
      "execution_count": 18,
      "outputs": [
        {
          "output_type": "stream",
          "name": "stdout",
          "text": [
            "[ True  True  True False False False False False False False False False\n",
            " False False False False False False False False False False False False\n",
            " False False False False False False False False False False False False\n",
            " False False False False False False False False False False False False\n",
            " False False] \n",
            "\n",
            "\n",
            "[1.         1.18367347 1.36734694] \n",
            "\n",
            "\n",
            "[  5.           5.91836735   6.83673469 500.         500.\n",
            " 500.         500.         500.         500.         500.\n",
            " 500.         500.         500.         500.         500.\n",
            " 500.         500.         500.         500.         500.\n",
            " 500.         500.         500.         500.         500.\n",
            " 500.         500.         500.         500.         500.\n",
            " 500.         500.         500.         500.         500.\n",
            " 500.         500.         500.         500.         500.\n",
            " 500.         500.         500.         500.         500.\n",
            " 500.         500.         500.         500.         500.        ]\n"
          ]
        }
      ]
    },
    {
      "cell_type": "code",
      "source": [
        "np.zeros(9)  #make a array where all element are zeros default dtype is float"
      ],
      "metadata": {
        "colab": {
          "base_uri": "https://localhost:8080/"
        },
        "id": "2nhgc_GkH0J4",
        "outputId": "a9ad2f27-2e23-40c7-e12e-4c45c717ea29"
      },
      "execution_count": 19,
      "outputs": [
        {
          "output_type": "execute_result",
          "data": {
            "text/plain": [
              "array([0., 0., 0., 0., 0., 0., 0., 0., 0.])"
            ]
          },
          "metadata": {},
          "execution_count": 19
        }
      ]
    },
    {
      "cell_type": "code",
      "source": [
        "np.ones((2,5),dtype=int)   #make a 2d array where all element are ones and dtype is int"
      ],
      "metadata": {
        "colab": {
          "base_uri": "https://localhost:8080/"
        },
        "id": "99meTuKCJFb7",
        "outputId": "6f538f85-f194-47ed-de9e-9272d19f63c1"
      },
      "execution_count": 20,
      "outputs": [
        {
          "output_type": "execute_result",
          "data": {
            "text/plain": [
              "array([[1, 1, 1, 1, 1],\n",
              "       [1, 1, 1, 1, 1]])"
            ]
          },
          "metadata": {},
          "execution_count": 20
        }
      ]
    },
    {
      "cell_type": "code",
      "source": [
        "#random distribution\n",
        "np.random.rand(3,3)\n"
      ],
      "metadata": {
        "colab": {
          "base_uri": "https://localhost:8080/"
        },
        "id": "nDzJiKPTJV3Z",
        "outputId": "bf44f685-d400-4012-8904-17839d938fe7"
      },
      "execution_count": 21,
      "outputs": [
        {
          "output_type": "execute_result",
          "data": {
            "text/plain": [
              "array([[0.23873682, 0.66921194, 0.6008365 ],\n",
              "       [0.98110882, 0.17080325, 0.77841948],\n",
              "       [0.03219023, 0.157493  , 0.22018541]])"
            ]
          },
          "metadata": {},
          "execution_count": 21
        }
      ]
    },
    {
      "cell_type": "code",
      "source": [
        "arr_ex=np.random.randn(4,4)\n",
        "arr_ex"
      ],
      "metadata": {
        "colab": {
          "base_uri": "https://localhost:8080/"
        },
        "id": "0PYWLASSJsT2",
        "outputId": "b33314b3-bce3-4f60-d4e4-e85d26c8053c"
      },
      "execution_count": 22,
      "outputs": [
        {
          "output_type": "execute_result",
          "data": {
            "text/plain": [
              "array([[-0.4233397 , -1.36865433, -0.23473728,  1.98960428],\n",
              "       [-1.02560131,  1.31443889, -2.17445933, -0.15841541],\n",
              "       [-1.35151109,  0.16108146,  0.7669968 ,  0.91543077],\n",
              "       [-2.78133762, -0.45707092,  0.41683325,  0.59126365]])"
            ]
          },
          "metadata": {},
          "execution_count": 22
        }
      ]
    },
    {
      "cell_type": "code",
      "source": [
        "import seaborn as sns\n",
        "import pandas as pd\n"
      ],
      "metadata": {
        "id": "fouFooUdJx1W"
      },
      "execution_count": 23,
      "outputs": []
    },
    {
      "cell_type": "code",
      "source": [
        "sns.distplot(pd.DataFrame(arr_ex.reshape(16,1)))"
      ],
      "metadata": {
        "colab": {
          "base_uri": "https://localhost:8080/",
          "height": 337
        },
        "id": "Mf558SSwK7tX",
        "outputId": "4403c001-77c8-4c07-b916-6ba98a915792"
      },
      "execution_count": 24,
      "outputs": [
        {
          "output_type": "stream",
          "name": "stderr",
          "text": [
            "/usr/local/lib/python3.8/dist-packages/seaborn/distributions.py:2619: FutureWarning: `distplot` is a deprecated function and will be removed in a future version. Please adapt your code to use either `displot` (a figure-level function with similar flexibility) or `histplot` (an axes-level function for histograms).\n",
            "  warnings.warn(msg, FutureWarning)\n"
          ]
        },
        {
          "output_type": "execute_result",
          "data": {
            "text/plain": [
              "<matplotlib.axes._subplots.AxesSubplot at 0x7f51150da8b0>"
            ]
          },
          "metadata": {},
          "execution_count": 24
        },
        {
          "output_type": "display_data",
          "data": {
            "text/plain": [
              "<Figure size 432x288 with 1 Axes>"
            ],
            "image/png": "[encoded data removed]"
          },
          "metadata": {
            "needs_background": "light"
          }
        }
      ]
    },
    {
      "cell_type": "code",
      "source": [
        "np.random.randint(0,100,8).reshape(4,2)  # random 8 number between 0 to 100"
      ],
      "metadata": {
        "colab": {
          "base_uri": "https://localhost:8080/"
        },
        "id": "zXKeIZBrJ22p",
        "outputId": "3d766347-2b3e-4c7f-cef4-0b7fe0362c12"
      },
      "execution_count": 25,
      "outputs": [
        {
          "output_type": "execute_result",
          "data": {
            "text/plain": [
              "array([[83, 85],\n",
              "       [81, 21],\n",
              "       [82,  2],\n",
              "       [28, 59]])"
            ]
          },
          "metadata": {},
          "execution_count": 25
        }
      ]
    },
    {
      "cell_type": "code",
      "source": [
        "np.random.random_sample((1,5))"
      ],
      "metadata": {
        "colab": {
          "base_uri": "https://localhost:8080/"
        },
        "id": "AEjme24xKd57",
        "outputId": "34965ab7-b712-4565-f70f-dc2ac65f7ec8"
      },
      "execution_count": 26,
      "outputs": [
        {
          "output_type": "execute_result",
          "data": {
            "text/plain": [
              "array([[0.78422986, 0.36372976, 0.88371614, 0.76859461, 0.31776055]])"
            ]
          },
          "metadata": {},
          "execution_count": 26
        }
      ]
    }
  ]
}