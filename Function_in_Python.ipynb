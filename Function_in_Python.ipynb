{
  "nbformat": 4,
  "nbformat_minor": 0,
  "metadata": {
    "colab": {
      "provenance": [],
      "authorship_tag": "ABX9TyNXDJ2VxbkuZ4+oK+x0Iev+",
      "include_colab_link": true
    },
    "kernelspec": {
      "name": "python3",
      "display_name": "Python 3"
    },
    "language_info": {
      "name": "python"
    }
  },
  "cells": [
    {
      "cell_type": "markdown",
      "metadata": {
        "id": "view-in-github",
        "colab_type": "text"
      },
      "source": [
        "<a href=\"https://colab.research.google.com/github/Moksh45/Machine-Learning-Code/blob/main/Function_in_Python.ipynb\" target=\"_parent\"><img src=\"https://colab.research.google.com/assets/colab-badge.svg\" alt=\"Open In Colab\"/></a>"
      ]
    },
    {
      "cell_type": "code",
      "execution_count": 2,
      "metadata": {
        "id": "Fs7hP9LqQhZn"
      },
      "outputs": [],
      "source": [
        "def hello(*args,**args2):\n",
        "  print(args)\n",
        "  print(args2)"
      ]
    },
    {
      "cell_type": "code",
      "source": [
        "hello(\"Rohan\",\"Karan\",age=33,dob=1994)"
      ],
      "metadata": {
        "colab": {
          "base_uri": "https://localhost:8080/"
        },
        "id": "jmIY73SaRvRA",
        "outputId": "e2ff4d10-040f-41f5-cf01-d8030905b6ed"
      },
      "execution_count": 3,
      "outputs": [
        {
          "output_type": "stream",
          "name": "stdout",
          "text": [
            "('Rohan', 'Karan')\n",
            "{'age': 33, 'dob': 1994}\n"
          ]
        }
      ]
    },
    {
      "cell_type": "code",
      "source": [
        "lst=['Rohan','Karan']\n",
        "dict_arg={\"age\":55,\"dob\":1987}"
      ],
      "metadata": {
        "id": "VMx4fgVOR8l9"
      },
      "execution_count": 4,
      "outputs": []
    },
    {
      "cell_type": "code",
      "source": [
        "hello(lst,dict_arg)"
      ],
      "metadata": {
        "colab": {
          "base_uri": "https://localhost:8080/"
        },
        "id": "biNXaLJgSKZp",
        "outputId": "8512568d-45e9-4ddb-bfe4-36e1d5e2ae0b"
      },
      "execution_count": 5,
      "outputs": [
        {
          "output_type": "stream",
          "name": "stdout",
          "text": [
            "(['Rohan', 'Karan'], {'age': 55, 'dob': 1987})\n",
            "{}\n"
          ]
        }
      ]
    },
    {
      "cell_type": "code",
      "source": [
        "hello(*lst,**dict_arg)"
      ],
      "metadata": {
        "colab": {
          "base_uri": "https://localhost:8080/"
        },
        "id": "47cTZV6FSTwn",
        "outputId": "5118e043-27be-4f24-a46a-86da2314cd4b"
      },
      "execution_count": 6,
      "outputs": [
        {
          "output_type": "stream",
          "name": "stdout",
          "text": [
            "('Rohan', 'Karan')\n",
            "{'age': 55, 'dob': 1987}\n"
          ]
        }
      ]
    },
    {
      "cell_type": "code",
      "source": [],
      "metadata": {
        "id": "T4noOl9RSbLb"
      },
      "execution_count": null,
      "outputs": []
    }
  ]
}