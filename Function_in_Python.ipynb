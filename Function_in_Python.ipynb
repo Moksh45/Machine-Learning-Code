{
  "nbformat": 4,
  "nbformat_minor": 0,
  "metadata": {
    "colab": {
      "provenance": [],
      "authorship_tag": "ABX9TyOrVPVxUBtjRoCPK48RUioj",
      "include_colab_link": true
    },
    "kernelspec": {
      "name": "python3",
      "display_name": "Python 3"
    },
    "language_info": {
      "name": "python"
    }
  },
  "cells": [
    {
      "cell_type": "markdown",
      "metadata": {
        "id": "view-in-github",
        "colab_type": "text"
      },
      "source": [
        "<a href=\"https://colab.research.google.com/github/Moksh45/Machine-Learning-Code/blob/main/Function_in_Python.ipynb\" target=\"_parent\"><img src=\"https://colab.research.google.com/assets/colab-badge.svg\" alt=\"Open In Colab\"/></a>"
      ]
    },
    {
      "cell_type": "code",
      "execution_count": 1,
      "metadata": {
        "id": "Fs7hP9LqQhZn"
      },
      "outputs": [],
      "source": [
        "def hello(*args,**args2):\n",
        "  print(args)\n",
        "  print(args2)"
      ]
    },
    {
      "cell_type": "code",
      "source": [
        "hello(\"Rohan\",\"Karan\",age=33,dob=1994)"
      ],
      "metadata": {
        "colab": {
          "base_uri": "https://localhost:8080/"
        },
        "id": "jmIY73SaRvRA",
        "outputId": "d50f1095-17f9-4eca-bfbf-723bf1833bc9"
      },
      "execution_count": 2,
      "outputs": [
        {
          "output_type": "stream",
          "name": "stdout",
          "text": [
            "('Rohan', 'Karan')\n",
            "{'age': 33, 'dob': 1994}\n"
          ]
        }
      ]
    },
    {
      "cell_type": "code",
      "source": [
        "lst=['Rohan','Karan']\n",
        "dict_arg={\"age\":55,\"dob\":1987}"
      ],
      "metadata": {
        "id": "VMx4fgVOR8l9"
      },
      "execution_count": 3,
      "outputs": []
    },
    {
      "cell_type": "code",
      "source": [
        "hello(lst,dict_arg)"
      ],
      "metadata": {
        "colab": {
          "base_uri": "https://localhost:8080/"
        },
        "id": "biNXaLJgSKZp",
        "outputId": "412f10bf-1620-4380-adde-2e86f5d8938c"
      },
      "execution_count": 4,
      "outputs": [
        {
          "output_type": "stream",
          "name": "stdout",
          "text": [
            "(['Rohan', 'Karan'], {'age': 55, 'dob': 1987})\n",
            "{}\n"
          ]
        }
      ]
    },
    {
      "cell_type": "code",
      "source": [
        "hello(*lst,**dict_arg)"
      ],
      "metadata": {
        "colab": {
          "base_uri": "https://localhost:8080/"
        },
        "id": "47cTZV6FSTwn",
        "outputId": "db7a6a36-ea23-4d79-fd17-18df16a3cc11"
      },
      "execution_count": 5,
      "outputs": [
        {
          "output_type": "stream",
          "name": "stdout",
          "text": [
            "('Rohan', 'Karan')\n",
            "{'age': 55, 'dob': 1987}\n"
          ]
        }
      ]
    },
    {
      "cell_type": "markdown",
      "source": [
        "# **Map Function**"
      ],
      "metadata": {
        "id": "5YQA-q3nTkKk"
      }
    },
    {
      "cell_type": "code",
      "source": [
        "def even_or_odd(num):\n",
        "  if num%2==0:\n",
        "    return \"The Number {} is Even\".format(num)\n",
        "  else:\n",
        "    return \"The Number {} is odd\".format(num)"
      ],
      "metadata": {
        "id": "T4noOl9RSbLb"
      },
      "execution_count": 7,
      "outputs": []
    },
    {
      "cell_type": "code",
      "source": [
        "lst=[1,2,3,4,5,7,8,9,10,23,22,53,64,66,43]"
      ],
      "metadata": {
        "id": "MFenGDk4UN3J"
      },
      "execution_count": 11,
      "outputs": []
    },
    {
      "cell_type": "code",
      "source": [
        "#pass lst in function use map\n",
        "list(map(even_or_odd,lst))\n"
      ],
      "metadata": {
        "colab": {
          "base_uri": "https://localhost:8080/"
        },
        "id": "Mo2l5-tJUUzO",
        "outputId": "269c35f3-6cda-4774-cddb-d63ee9ee9f2a"
      },
      "execution_count": 12,
      "outputs": [
        {
          "output_type": "execute_result",
          "data": {
            "text/plain": [
              "['The Number 1 is Even',\n",
              " 'The Number 2 is Even',\n",
              " 'The Number 3 is Even',\n",
              " 'The Number 4 is Even',\n",
              " 'The Number 5 is Even',\n",
              " 'The Number 7 is Even',\n",
              " 'The Number 8 is Even',\n",
              " 'The Number 9 is Even',\n",
              " 'The Number 10 is Even',\n",
              " 'The Number 23 is Even',\n",
              " 'The Number 22 is Even',\n",
              " 'The Number 53 is Even',\n",
              " 'The Number 64 is Even',\n",
              " 'The Number 66 is Even',\n",
              " 'The Number 43 is Even']"
            ]
          },
          "metadata": {},
          "execution_count": 12
        }
      ]
    },
    {
      "cell_type": "markdown",
      "source": [
        "# **Lambda Function**"
      ],
      "metadata": {
        "id": "1qcuFsj4VEVk"
      }
    },
    {
      "cell_type": "code",
      "source": [
        "# Normal Function\n",
        "def addition(a,b):\n",
        "  return a+b"
      ],
      "metadata": {
        "id": "To3LODYfVCmd"
      },
      "execution_count": 15,
      "outputs": []
    },
    {
      "cell_type": "code",
      "source": [
        "addition(4,5)"
      ],
      "metadata": {
        "colab": {
          "base_uri": "https://localhost:8080/"
        },
        "id": "OCjBS8rBVtvA",
        "outputId": "c75d04e9-2051-4834-bae8-b8ccc36fa348"
      },
      "execution_count": 16,
      "outputs": [
        {
          "output_type": "execute_result",
          "data": {
            "text/plain": [
              "9"
            ]
          },
          "metadata": {},
          "execution_count": 16
        }
      ]
    },
    {
      "cell_type": "code",
      "source": [
        "#example of lambda Function \n",
        "#lambda Function is Fast \n",
        "# also know as anonymous Function\n",
        "addition=lambda a,b:a+b"
      ],
      "metadata": {
        "id": "DkFyUuMBV68t"
      },
      "execution_count": 18,
      "outputs": []
    },
    {
      "cell_type": "code",
      "source": [
        "addition(12,14)"
      ],
      "metadata": {
        "colab": {
          "base_uri": "https://localhost:8080/"
        },
        "id": "cMz2IGWRWA8J",
        "outputId": "ed344505-b9b2-43ef-e0b5-9ad6cd72b0c2"
      },
      "execution_count": 17,
      "outputs": [
        {
          "output_type": "execute_result",
          "data": {
            "text/plain": [
              "26"
            ]
          },
          "metadata": {},
          "execution_count": 17
        }
      ]
    },
    {
      "cell_type": "markdown",
      "source": [
        "# **Filter Function in Python**"
      ],
      "metadata": {
        "id": "9AaBT5qaWyYs"
      }
    },
    {
      "cell_type": "code",
      "source": [
        "def even(num):\n",
        "  if num%2==0:\n",
        "    return True"
      ],
      "metadata": {
        "id": "RiSlH9PtW5Oc"
      },
      "execution_count": 19,
      "outputs": []
    },
    {
      "cell_type": "code",
      "source": [
        "lst=[1,2,3,4,5,6,7,8,9,0]"
      ],
      "metadata": {
        "id": "lSZkL7y7XL7G"
      },
      "execution_count": 20,
      "outputs": []
    },
    {
      "cell_type": "code",
      "source": [
        "list(filter(even,lst))"
      ],
      "metadata": {
        "colab": {
          "base_uri": "https://localhost:8080/"
        },
        "id": "tq9zW2YDXTq6",
        "outputId": "1f9fdc29-c126-42c1-9223-3f4e1b7ce388"
      },
      "execution_count": 22,
      "outputs": [
        {
          "output_type": "execute_result",
          "data": {
            "text/plain": [
              "[2, 4, 6, 8, 0]"
            ]
          },
          "metadata": {},
          "execution_count": 22
        }
      ]
    },
    {
      "cell_type": "code",
      "source": [
        "list(map(even,lst))"
      ],
      "metadata": {
        "colab": {
          "base_uri": "https://localhost:8080/"
        },
        "id": "_H5sirZ0XdYL",
        "outputId": "c44d45d2-7bdc-4ebf-c469-961a5d4a39bd"
      },
      "execution_count": 24,
      "outputs": [
        {
          "output_type": "execute_result",
          "data": {
            "text/plain": [
              "[None, True, None, True, None, True, None, True, None, True]"
            ]
          },
          "metadata": {},
          "execution_count": 24
        }
      ]
    },
    {
      "cell_type": "markdown",
      "source": [
        "# **List Comprehension**"
      ],
      "metadata": {
        "id": "Q_AKT8yIYjYI"
      }
    },
    {
      "cell_type": "code",
      "source": [
        "lst1=[]\n",
        "def lst_square(lst):\n",
        "  for i in lst:\n",
        "    lst1.append(i*i)\n",
        "  return lst1"
      ],
      "metadata": {
        "id": "kP5sDNd_XrNN"
      },
      "execution_count": 25,
      "outputs": []
    },
    {
      "cell_type": "code",
      "source": [
        "lst_square([1,2,3,4,5,5,6,7,8,9])"
      ],
      "metadata": {
        "colab": {
          "base_uri": "https://localhost:8080/"
        },
        "id": "KvcN6CXmZeuT",
        "outputId": "0106b6f0-1f25-4ff4-94a5-cf6e33af58dc"
      },
      "execution_count": 26,
      "outputs": [
        {
          "output_type": "execute_result",
          "data": {
            "text/plain": [
              "[1, 4, 9, 16, 25, 25, 36, 49, 64, 81]"
            ]
          },
          "metadata": {},
          "execution_count": 26
        }
      ]
    },
    {
      "cell_type": "code",
      "source": [
        "#same function using list comprehension\n",
        "lst=[1,2,3,4,5,6,7,8,9]\n",
        "list1=[i*i for i in lst]"
      ],
      "metadata": {
        "id": "nl4La_L_ZlEU"
      },
      "execution_count": 29,
      "outputs": []
    },
    {
      "cell_type": "code",
      "source": [
        "print(list1)"
      ],
      "metadata": {
        "colab": {
          "base_uri": "https://localhost:8080/"
        },
        "id": "RHFLF4jcaRrG",
        "outputId": "b596568a-4930-4495-852a-5877dd928c07"
      },
      "execution_count": 30,
      "outputs": [
        {
          "output_type": "stream",
          "name": "stdout",
          "text": [
            "[1, 4, 9, 16, 25, 36, 49, 64, 81]\n"
          ]
        }
      ]
    },
    {
      "cell_type": "code",
      "source": [
        "list1=[i*i for i in lst if i%2==0]\n",
        "print(list1)"
      ],
      "metadata": {
        "colab": {
          "base_uri": "https://localhost:8080/"
        },
        "id": "FYEQRk4HaXs_",
        "outputId": "1441a685-b32e-4ebf-d154-f25da84a0200"
      },
      "execution_count": 31,
      "outputs": [
        {
          "output_type": "stream",
          "name": "stdout",
          "text": [
            "[4, 16, 36, 64]\n"
          ]
        }
      ]
    },
    {
      "cell_type": "markdown",
      "source": [
        "# **String Formatting**"
      ],
      "metadata": {
        "id": "PWikxHUXeReO"
      }
    },
    {
      "cell_type": "code",
      "source": [
        "def fun(name):\n",
        "  return \"hello {}.Welcome to the git community\".format(name)"
      ],
      "metadata": {
        "id": "jqUFkxdjeZyQ"
      },
      "execution_count": 32,
      "outputs": []
    },
    {
      "cell_type": "code",
      "source": [
        "fun(\"Moksh\")"
      ],
      "metadata": {
        "colab": {
          "base_uri": "https://localhost:8080/",
          "height": 36
        },
        "id": "bEabtOEdh_5h",
        "outputId": "45ec358e-26d2-441d-c99e-a7de6f1913fc"
      },
      "execution_count": 33,
      "outputs": [
        {
          "output_type": "execute_result",
          "data": {
            "text/plain": [
              "'hello Moksh.Welcome to the git community'"
            ],
            "application/vnd.google.colaboratory.intrinsic+json": {
              "type": "string"
            }
          },
          "metadata": {},
          "execution_count": 33
        }
      ]
    },
    {
      "cell_type": "code",
      "source": [
        "def Welcome_email(name,age):\n",
        "  return \"hello {name}.Your age is {age}\".format(age=age,name=name)"
      ],
      "metadata": {
        "id": "hkolEePziFM-"
      },
      "execution_count": 34,
      "outputs": []
    },
    {
      "cell_type": "code",
      "source": [
        "Welcome_email(\"Shruti\",22)"
      ],
      "metadata": {
        "colab": {
          "base_uri": "https://localhost:8080/",
          "height": 36
        },
        "id": "nFEgYzAPiZgL",
        "outputId": "9e750604-a462-4a71-e905-4717198c2d81"
      },
      "execution_count": 35,
      "outputs": [
        {
          "output_type": "execute_result",
          "data": {
            "text/plain": [
              "'hello Shruti.Your age is 22'"
            ],
            "application/vnd.google.colaboratory.intrinsic+json": {
              "type": "string"
            }
          },
          "metadata": {},
          "execution_count": 35
        }
      ]
    }
  ]
}